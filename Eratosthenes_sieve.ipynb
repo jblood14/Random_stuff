{
 "cells": [
  {
   "cell_type": "markdown",
   "metadata": {},
   "source": [
    "# Eratosthenes' Sieve\n",
    "### Find all primes up to a given $n$\n",
    "##### James Blood 2017"
   ]
  },
  {
   "cell_type": "markdown",
   "metadata": {},
   "source": [
    "Here is a version of the famous and ancient algorithm, Eratosthenes' sieve. It starts with a full set of numbers from 2 to $n$ before eliminating the multiples. This leads inexorably to a set populated solely with the prime numbers. Full details are available on [Wikipedia](https://en.wikipedia.org/wiki/Sieve_of_Eratosthenes).\n",
    "\n",
    "This works well enough up to $10^7$. Orders of magnitude higher than that begin to be very slow and one should think about separating the set into various $\\Delta$s (see the wiki). I may add this functionality soon."
   ]
  },
  {
   "cell_type": "code",
   "execution_count": null,
   "metadata": {
    "collapsed": false
   },
   "outputs": [],
   "source": [
    "def sieve(n):\n",
    "    \"Simple version of the Eratosthenes' sieve algorithm\"\n",
    "    #initialise a list of Booleans with 0,1 set to false (2 is the first prime)\n",
    "    primes=[False] * 2 + [True] * (n-1)\n",
    "    for i,isprime in enumerate(primes): #number the entries in the list\n",
    "        if isprime: #if it's == True\n",
    "            yield i \n",
    "            for x in range(i**2,n+1,i): #work through the list i**2 is the more arithemetically efficient start point\n",
    "                primes[x]=False"
   ]
  }
 ],
 "metadata": {
  "kernelspec": {
   "display_name": "Python 3",
   "language": "python",
   "name": "python3"
  },
  "language_info": {
   "codemirror_mode": {
    "name": "ipython",
    "version": 3
   },
   "file_extension": ".py",
   "mimetype": "text/x-python",
   "name": "python",
   "nbconvert_exporter": "python",
   "pygments_lexer": "ipython3",
   "version": "3.6.0"
  }
 },
 "nbformat": 4,
 "nbformat_minor": 2
}
